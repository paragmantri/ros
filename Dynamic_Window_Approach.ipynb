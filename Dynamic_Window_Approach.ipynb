{
 "cells": [
  {
   "cell_type": "markdown",
   "metadata": {},
   "source": [
    "# Dynamic Window Approach (DWA)"
   ]
  },
  {
   "cell_type": "markdown",
   "metadata": {},
   "source": [
    "This is a path planning approach to find the shortest path from source to destination, which also is capaple of avoiding obstacles in between the source and destination."
   ]
  },
  {
   "cell_type": "markdown",
   "metadata": {},
   "source": [
    "### importing packages"
   ]
  },
  {
   "cell_type": "code",
   "execution_count": 1,
   "metadata": {},
   "outputs": [],
   "source": [
    "import math\n",
    "from enum import Enum\n",
    "\n",
    "import matplotlib.pyplot as plt\n",
    "import numpy as np"
   ]
  },
  {
   "cell_type": "markdown",
   "metadata": {},
   "source": [
    "##### RobotType class is used to specify your robot based on the shape of the robot used.\n",
    "here we can choose between a circular bot and rectangular bot.\n",
    "example for circular bot: Turtlebot.\n",
    "example for rectangualr bot could be any differential drive bot with rectangular chassis."
   ]
  },
  {
   "cell_type": "code",
   "execution_count": null,
   "metadata": {},
   "outputs": [],
   "source": [
    "class RobotType(Enum):\n",
    "    circle = 0\n",
    "    rectangle = 1"
   ]
  },
  {
   "cell_type": "markdown",
   "metadata": {},
   "source": [
    "##### The class config is used to configure the parameters of the robot.\n",
    "For example, we can set the robots maximum and minimum speeds, accelerations; goals etc."
   ]
  },
  {
   "cell_type": "code",
   "execution_count": null,
   "metadata": {},
   "outputs": [],
   "source": [
    "class Config:\n",
    "    \"\"\"\n",
    "    simulation parameter class\n",
    "    \"\"\"\n",
    "\n",
    "    def __init__(self):\n",
    "        # robot parameter\n",
    "        self.max_speed = 1.0  # [m/s]\n",
    "        self.min_speed = -0.5  # [m/s]\n",
    "        self.max_yaw_rate = 40.0 * math.pi / 180.0  # [rad/s]\n",
    "        self.max_accel = 0.2  # [m/ss]\n",
    "        self.max_delta_yaw_rate = 40.0 * math.pi / 180.0  # [rad/ss]\n",
    "        self.v_resolution = 0.01  # [m/s]\n",
    "        self.yaw_rate_resolution = 0.1 * math.pi / 180.0  # [rad/s]\n",
    "        self.dt = 0.1  # [s] Time tick for motion prediction\n",
    "        self.predict_time = 3.0  # [s]\n",
    "        self.to_goal_cost_gain = 0.15\n",
    "        self.speed_cost_gain = 1.0\n",
    "        self.obstacle_cost_gain = 1.0\n",
    "        self.robot_type = RobotType.circle\n",
    "\n",
    "        # if robot_type == RobotType.circle\n",
    "        # Also used to check if goal is reached in both types\n",
    "        self.robot_radius = 1.0  # [m] for collision check\n",
    "\n",
    "        # if robot_type == RobotType.rectangle\n",
    "        self.robot_width = 0.5  # [m] for collision check\n",
    "        self.robot_length = 1.2  # [m] for collision check\n",
    "\n",
    "    @property\n",
    "    def robot_type(self):\n",
    "        return self._robot_type\n",
    "\n",
    "    @robot_type.setter\n",
    "    def robot_type(self, value):\n",
    "        if not isinstance(value, RobotType):\n",
    "            raise TypeError(\"robot_type must be an instance of RobotType\")\n",
    "        self._robot_type = value"
   ]
  },
  {
   "cell_type": "markdown",
   "metadata": {},
   "source": [
    "##### Motion is used to calculate the trajectory."
   ]
  },
  {
   "cell_type": "code",
   "execution_count": null,
   "metadata": {},
   "outputs": [],
   "source": [
    "def motion(x, u, dt):\n",
    "    \"\"\"\n",
    "    motion model\n",
    "    \"\"\"\n",
    "\n",
    "    x[2] += u[1] * dt\n",
    "    x[0] += u[0] * math.cos(x[2]) * dt\n",
    "    x[1] += u[0] * math.sin(x[2]) * dt\n",
    "    x[3] = u[0]\n",
    "    x[4] = u[1]\n",
    "\n",
    "    return x"
   ]
  },
  {
   "cell_type": "markdown",
   "metadata": {},
   "source": [
    "##### We have to calculate the dynamic window by limiting the reachable velocities.\n",
    "\n",
    "1. from robot specifications\n",
    "2. final velocity = intial velocity + acceleration * time\n",
    "   i.e., v = u + at\n",
    "3. taking the maximum from them."
   ]
  },
  {
   "cell_type": "code",
   "execution_count": null,
   "metadata": {},
   "outputs": [],
   "source": [
    "def calc_dynamic_window(x, config):\n",
    "    \"\"\"\n",
    "    calculation dynamic window based on current state x\n",
    "    \"\"\"\n",
    "\n",
    "    # Dynamic window from robot specification\n",
    "    Vs = [config.min_speed, config.max_speed,\n",
    "          -config.max_yaw_rate, config.max_yaw_rate]\n",
    "\n",
    "    # Dynamic window from motion model\n",
    "    Vd = [x[3] - config.max_accel * config.dt,\n",
    "          x[3] + config.max_accel * config.dt,\n",
    "          x[4] - config.max_delta_yaw_rate * config.dt,\n",
    "          x[4] + config.max_delta_yaw_rate * config.dt]\n",
    "\n",
    "    #  [v_min, v_max, yaw_rate_min, yaw_rate_max]\n",
    "    dw = [max(Vs[0], Vd[0]), min(Vs[1], Vd[1]),\n",
    "          max(Vs[2], Vd[2]), min(Vs[3], Vd[3])]\n",
    "\n",
    "    return dw"
   ]
  },
  {
   "cell_type": "markdown",
   "metadata": {},
   "source": [
    "##### Next Trajectory has to predicted based on the present trajectory, which is defined by x.\n",
    "Trajectory is calculated by motion function by incrementing from 0 to predict time. That is, the trajectory is planned in between the specified predicted time.\n"
   ]
  },
  {
   "cell_type": "code",
   "execution_count": null,
   "metadata": {},
   "outputs": [],
   "source": [
    "def predict_trajectory(x_init, v, y, config):\n",
    "    \"\"\"\n",
    "    predict trajectory with an input\n",
    "    \"\"\"\n",
    "\n",
    "    x = np.array(x_init)\n",
    "    trajectory = np.array(x)\n",
    "    time = 0\n",
    "    while time <= config.predict_time:\n",
    "        x = motion(x, [v, y], config.dt)\n",
    "        trajectory = np.vstack((trajectory, x))\n",
    "        time += config.dt\n",
    "\n",
    "    return trajectory"
   ]
  },
  {
   "cell_type": "markdown",
   "metadata": {},
   "source": [
    "##### Funtion calc_control_and_trajectory is used to calculate the best trajectory.\n",
    "1. Here the trajectory is calculated for the robot inside the specific Dynamic Window.\n",
    "2. It is the Optimised trajectory with respect to the obstacles.\n",
    "\n",
    "that means, the trajectory is calculated such that the resulting velocities in that trajectory are the best trajectories, apart from the trajectories which collide to the obstacles, by calculating the cost for the obstacles.\n",
    "\n"
   ]
  },
  {
   "cell_type": "code",
   "execution_count": null,
   "metadata": {},
   "outputs": [],
   "source": [
    "def calc_control_and_trajectory(x, dw, config, goal, ob):\n",
    "    \"\"\"\n",
    "    calculation final input with dynamic window\n",
    "    \"\"\"\n",
    "\n",
    "    x_init = x[:]\n",
    "    min_cost = float(\"inf\")\n",
    "    best_u = [0.0, 0.0]\n",
    "    best_trajectory = np.array([x])\n",
    "\n",
    "    # evaluate all trajectory with sampled input in dynamic window\n",
    "    for v in np.arange(dw[0], dw[1], config.v_resolution):\n",
    "        for y in np.arange(dw[2], dw[3], config.yaw_rate_resolution):\n",
    "\n",
    "            trajectory = predict_trajectory(x_init, v, y, config)\n",
    "\n",
    "            # calc cost\n",
    "            to_goal_cost = config.to_goal_cost_gain * calc_to_goal_cost(trajectory, goal)\n",
    "            speed_cost = config.speed_cost_gain * (config.max_speed - trajectory[-1, 3])\n",
    "            ob_cost = config.obstacle_cost_gain * calc_obstacle_cost(trajectory, ob, config)\n",
    "\n",
    "            final_cost = to_goal_cost + speed_cost + ob_cost\n",
    "\n",
    "            # search minimum trajectory\n",
    "            if min_cost >= final_cost:\n",
    "                min_cost = final_cost\n",
    "                best_u = [v, y]\n",
    "                best_trajectory = trajectory\n",
    "\n",
    "    return best_u, best_trajectory"
   ]
  },
  {
   "cell_type": "markdown",
   "metadata": {},
   "source": [
    "##### calc_obstacle_cost is used to calculate the cost for each obstacle, which is requied to plan the best best trajectory that avoids the obstacles."
   ]
  },
  {
   "cell_type": "code",
   "execution_count": null,
   "metadata": {},
   "outputs": [],
   "source": [
    "def calc_obstacle_cost(trajectory, ob, config):\n",
    "    \"\"\"\n",
    "        calc obstacle cost inf: collision\n",
    "    \"\"\"\n",
    "    ox = ob[:, 0]\n",
    "    oy = ob[:, 1]\n",
    "    dx = trajectory[:, 0] - ox[:, None]\n",
    "    dy = trajectory[:, 1] - oy[:, None]\n",
    "    r = np.hypot(dx, dy)\n",
    "\n",
    "    if config.robot_type == RobotType.rectangle:\n",
    "        yaw = trajectory[:, 2]\n",
    "        rot = np.array([[np.cos(yaw), -np.sin(yaw)], [np.sin(yaw), np.cos(yaw)]])\n",
    "        rot = np.transpose(rot, [2, 0, 1])\n",
    "        local_ob = ob[:, None] - trajectory[:, 0:2]\n",
    "        local_ob = local_ob.reshape(-1, local_ob.shape[-1])\n",
    "        local_ob = np.array([local_ob @ x for x in rot])\n",
    "        local_ob = local_ob.reshape(-1, local_ob.shape[-1])\n",
    "        upper_check = local_ob[:, 0] <= config.robot_length / 2\n",
    "        right_check = local_ob[:, 1] <= config.robot_width / 2\n",
    "        bottom_check = local_ob[:, 0] >= -config.robot_length / 2\n",
    "        left_check = local_ob[:, 1] >= -config.robot_width / 2\n",
    "        if (np.logical_and(np.logical_and(upper_check, right_check),\n",
    "                           np.logical_and(bottom_check, left_check))).any():\n",
    "            return float(\"Inf\")\n",
    "    elif config.robot_type == RobotType.circle:\n",
    "        if np.array(r <= config.robot_radius).any():\n",
    "            return float(\"Inf\")\n",
    "\n",
    "    min_r = np.min(r)\n",
    "    return 1.0 / min_r  # OK"
   ]
  },
  {
   "cell_type": "markdown",
   "metadata": {},
   "source": [
    "##### function calc_to_goal_cost is used to calculate the cost of the target location point, which is used to optimise the path to reach the destination."
   ]
  },
  {
   "cell_type": "code",
   "execution_count": null,
   "metadata": {},
   "outputs": [],
   "source": [
    "def calc_to_goal_cost(trajectory, goal):\n",
    "    \"\"\"\n",
    "        calc to goal cost with angle difference\n",
    "    \"\"\"\n",
    "\n",
    "    dx = goal[0] - trajectory[-1, 0]\n",
    "    dy = goal[1] - trajectory[-1, 1]\n",
    "    error_angle = math.atan2(dy, dx)\n",
    "    cost_angle = error_angle - trajectory[-1, 2]\n",
    "    cost = abs(math.atan2(math.sin(cost_angle), math.cos(cost_angle)))\n",
    "\n",
    "    return cost"
   ]
  },
  {
   "cell_type": "markdown",
   "metadata": {},
   "source": [
    "### Finally, all these calculations are put together to control the robot trajectory using Dynamic Window Approach."
   ]
  },
  {
   "cell_type": "code",
   "execution_count": null,
   "metadata": {},
   "outputs": [],
   "source": [
    "def dwa_control(x, config, goal, ob):\n",
    "    \"\"\"\n",
    "    Dynamic Window Approach control\n",
    "    \"\"\"\n",
    "\n",
    "    dw = calc_dynamic_window(x, config)\n",
    "\n",
    "    u, trajectory = calc_control_and_trajectory(x, dw, config, goal, ob)\n",
    "\n",
    "    return u, trajectory"
   ]
  },
  {
   "cell_type": "markdown",
   "metadata": {},
   "source": [
    "### Simulation:\n",
    "Here are the funtions used to plot the robot and the environment using matplotlib."
   ]
  },
  {
   "cell_type": "code",
   "execution_count": null,
   "metadata": {},
   "outputs": [],
   "source": [
    "def plot_arrow(x, y, yaw, length=0.5, width=0.1):  # pragma: no cover\n",
    "    plt.arrow(x, y, length * math.cos(yaw), length * math.sin(yaw),\n",
    "              head_length=width, head_width=width)"
   ]
  },
  {
   "cell_type": "code",
   "execution_count": null,
   "metadata": {},
   "outputs": [],
   "source": [
    "def plot_robot(x, y, yaw, config):  # pragma: no cover\n",
    "    if config.robot_type == RobotType.rectangle:\n",
    "        outline = np.array([[-config.robot_length / 2, config.robot_length / 2,\n",
    "                             (config.robot_length / 2), -config.robot_length / 2,\n",
    "                             -config.robot_length / 2],\n",
    "                            [config.robot_width / 2, config.robot_width / 2,\n",
    "                             - config.robot_width / 2, -config.robot_width / 2,\n",
    "                             config.robot_width / 2]])\n",
    "        Rot1 = np.array([[math.cos(yaw), math.sin(yaw)],\n",
    "                         [-math.sin(yaw), math.cos(yaw)]])\n",
    "        outline = (outline.T.dot(Rot1)).T\n",
    "        outline[0, :] += x\n",
    "        outline[1, :] += y\n",
    "        plt.plot(np.array(outline[0, :]).flatten(),\n",
    "                 np.array(outline[1, :]).flatten(), \"-k\")\n",
    "    elif config.robot_type == RobotType.circle:\n",
    "        circle = plt.Circle((x, y), config.robot_radius, color=\"b\")\n",
    "        plt.gcf().gca().add_artist(circle)\n",
    "        out_x, out_y = (np.array([x, y]) +\n",
    "                        np.array([np.cos(yaw), np.sin(yaw)]) * config.robot_radius)\n",
    "        plt.plot([x, out_x], [y, out_y], \"-k\")"
   ]
  },
  {
   "cell_type": "markdown",
   "metadata": {},
   "source": [
    "### let's intiate the robot and the other components:\n",
    "##### 1. let x be an array which contains:\n",
    "1. x(t0)\n",
    "2. y(t0)\n",
    "3. yaw angle\n",
    "4. velocity(t0)\n",
    "5. omega (W(t0))\n",
    "\n",
    "##### 2. let the target location i.e., goal is gx, gy\n",
    "\n",
    "##### 3. set the obstacles with ob array. it is defined by x and y co ordinates\n",
    "\n"
   ]
  },
  {
   "cell_type": "code",
   "execution_count": null,
   "metadata": {},
   "outputs": [],
   "source": [
    "def main(gx=10.0, gy=10.0, robot_type=RobotType.circle):\n",
    "\n",
    "    x = np.array([0.0, 0.0, math.pi / 8.0, 0.0, 0.0])\n",
    "    # goal position [x(m), y(m)]\n",
    "    goal = np.array([gx, gy])\n",
    "    # obstacles [x(m) y(m), ....]\n",
    "    ob = np.array([[-1, -1],\n",
    "                   [0, 2],\n",
    "                   [0,12],\n",
    "                   [4.0, 2.0],\n",
    "                   [5.0, 4.0],\n",
    "                   [5.0, 5.0],\n",
    "                   [5.0, 6.0],\n",
    "                   [5.0, 9.0],\n",
    "                   [8.0, 9.0],\n",
    "                   [7.0, 9.0],\n",
    "                   [8.0, 10.0],\n",
    "                   [9.0, 11.0],\n",
    "                   [12.0, 13.0],\n",
    "                   [12.0, 12.0],\n",
    "                   [15.0, 15.0],\n",
    "                   [13.0, 13.0]\n",
    "                   ])\n",
    "\n",
    "    # input [forward speed, yaw_rate]\n",
    "    config = Config()\n",
    "    config.robot_type = robot_type\n",
    "    trajectory = np.array(x)\n",
    "\n",
    "    while True:\n",
    "        u, predicted_trajectory = dwa_control(x, config, goal, ob)\n",
    "        x = motion(x, u, config.dt)  # simulate robot\n",
    "        trajectory = np.vstack((trajectory, x))  # store state history\n",
    "\n",
    "        if show_animation:\n",
    "            plt.cla()\n",
    "            # for stopping simulation with the esc key.\n",
    "            plt.gcf().canvas.mpl_connect(\n",
    "                'key_release_event',\n",
    "                lambda event: [exit(0) if event.key == 'escape' else None])\n",
    "            plt.plot(predicted_trajectory[:, 0], predicted_trajectory[:, 1], \"-g\")\n",
    "            plt.plot(x[0], x[1], \"xr\")\n",
    "            plt.plot(goal[0], goal[1], \"xb\")\n",
    "            plt.plot(ob[:, 0], ob[:, 1], \"ok\")\n",
    "            plot_robot(x[0], x[1], x[2], config)\n",
    "            plot_arrow(x[0], x[1], x[2])\n",
    "            plt.axis(\"equal\")\n",
    "            plt.grid(True)\n",
    "            plt.pause(0.0001)\n",
    "\n",
    "        # check reaching goal\n",
    "        dist_to_goal = math.hypot(x[0] - goal[0], x[1] - goal[1])\n",
    "        if dist_to_goal <= config.robot_radius:\n",
    "            print(\"Goal!!\")\n",
    "            break\n",
    "\n",
    "    print(\"Done\")\n",
    "    if show_animation:\n",
    "        plt.plot(trajectory[:, 0], trajectory[:, 1], \"-r\")\n",
    "        plt.pause(0.0001)\n",
    "\n",
    "    plt.show()"
   ]
  },
  {
   "cell_type": "code",
   "execution_count": null,
   "metadata": {},
   "outputs": [],
   "source": [
    "if __name__ == '__main__':\n",
    "    main(robot_type=RobotType.rectangle) # uses a rectangular robot.\n",
    "    # main(robot_type=RobotType.circle)  # uses a circular robot."
   ]
  },
  {
   "cell_type": "code",
   "execution_count": null,
   "metadata": {},
   "outputs": [],
   "source": []
  }
 ],
 "metadata": {
  "kernelspec": {
   "display_name": "Python 3",
   "language": "python",
   "name": "python3"
  },
  "language_info": {
   "codemirror_mode": {
    "name": "ipython",
    "version": 3
   },
   "file_extension": ".py",
   "mimetype": "text/x-python",
   "name": "python",
   "nbconvert_exporter": "python",
   "pygments_lexer": "ipython3",
   "version": "3.7.4"
  }
 },
 "nbformat": 4,
 "nbformat_minor": 2
}
